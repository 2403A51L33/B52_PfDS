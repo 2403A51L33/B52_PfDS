{
  "nbformat": 4,
  "nbformat_minor": 0,
  "metadata": {
    "colab": {
      "provenance": [],
      "authorship_tag": "ABX9TyMiWzFjm7oWIymXYhNxz6i0",
      "include_colab_link": true
    },
    "kernelspec": {
      "name": "python3",
      "display_name": "Python 3"
    },
    "language_info": {
      "name": "python"
    }
  },
  "cells": [
    {
      "cell_type": "markdown",
      "metadata": {
        "id": "view-in-github",
        "colab_type": "text"
      },
      "source": [
        "<a href=\"https://colab.research.google.com/github/2403A51L33/B52_PfDS/blob/main/Lab-06(2).ipynb\" target=\"_parent\"><img src=\"https://colab.research.google.com/assets/colab-badge.svg\" alt=\"Open In Colab\"/></a>"
      ]
    },
    {
      "cell_type": "code",
      "execution_count": 1,
      "metadata": {
        "colab": {
          "base_uri": "https://localhost:8080/"
        },
        "id": "iiXXBbsulgWg",
        "outputId": "26c494ec-a98d-48f6-dae0-802f227f1727"
      },
      "outputs": [
        {
          "output_type": "stream",
          "name": "stdout",
          "text": [
            "Original Gender values:\n",
            " Gender\n",
            "F         1\n",
            "M         1\n",
            "Male      1\n",
            "female    1\n",
            "Female    1\n",
            "male      1\n",
            "Name: count, dtype: int64\n",
            "\n",
            "Cleaned Gender values:\n",
            " Gender\n",
            "Female    3\n",
            "Male      3\n",
            "Name: count, dtype: int64\n"
          ]
        }
      ],
      "source": [
        "import pandas as pd\n",
        "data = {\n",
        "    'Name': ['Alice', 'Bob', 'Charlie', 'David', 'Eva', 'Frank'],\n",
        "    'Gender': ['F', 'M', 'Male', 'female', 'Female', 'male'],\n",
        "    'Score': [85, 78, 92, 88, 76, 90]\n",
        "}\n",
        "\n",
        "df = pd.DataFrame(data)\n",
        "\n",
        "print(\"Original Gender values:\\n\", df['Gender'].value_counts())\n",
        "\n",
        "def standardize_gender(g):\n",
        "    g = g.strip().lower()\n",
        "    if g in ['m', 'male']:\n",
        "        return 'Male'\n",
        "    elif g in ['f', 'female']:\n",
        "        return 'Female'\n",
        "    else:\n",
        "        return 'Unknown'\n",
        "\n",
        "df['Gender'] = df['Gender'].apply(standardize_gender)\n",
        "\n",
        "print(\"\\nCleaned Gender values:\\n\", df['Gender'].value_counts())"
      ]
    }
  ]
}