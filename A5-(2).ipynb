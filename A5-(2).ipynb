{
  "nbformat": 4,
  "nbformat_minor": 0,
  "metadata": {
    "colab": {
      "provenance": [],
      "authorship_tag": "ABX9TyNhVeifoXYHNjkVgDVjmvya",
      "include_colab_link": true
    },
    "kernelspec": {
      "name": "python3",
      "display_name": "Python 3"
    },
    "language_info": {
      "name": "python"
    }
  },
  "cells": [
    {
      "cell_type": "markdown",
      "metadata": {
        "id": "view-in-github",
        "colab_type": "text"
      },
      "source": [
        "<a href=\"https://colab.research.google.com/github/2403A51L33/B52_PfDS/blob/main/A5-(2).ipynb\" target=\"_parent\"><img src=\"https://colab.research.google.com/assets/colab-badge.svg\" alt=\"Open In Colab\"/></a>"
      ]
    },
    {
      "cell_type": "code",
      "execution_count": 5,
      "metadata": {
        "colab": {
          "base_uri": "https://localhost:8080/"
        },
        "id": "5R2qEctMg4f0",
        "outputId": "df40c05a-33c6-471b-c19b-edd62996f6b8"
      },
      "outputs": [
        {
          "output_type": "stream",
          "name": "stdout",
          "text": [
            "Customers Dataset:\n",
            "   customer_id     name region\n",
            "0            1    Alice  North\n",
            "1            2      Bob  South\n",
            "2            3  Charlie   East\n",
            "3            4    David   West\n",
            "4            5      Eve  North \n",
            "\n",
            "Sales Dataset:\n",
            "   sale_id  customer_id  amount\n",
            "0      101            1     150\n",
            "1      102            2     200\n",
            "2      103            1     100\n",
            "3      104            3     300\n",
            "4      105            4      50 \n",
            "\n",
            "Inner Join Result:\n",
            "   customer_id     name region  sale_id  amount\n",
            "0            1    Alice  North      101     150\n",
            "1            1    Alice  North      103     100\n",
            "2            2      Bob  South      102     200\n",
            "3            2      Bob  South      106     250\n",
            "4            3  Charlie   East      104     300 \n",
            "\n",
            "Left Join Result:\n",
            "   customer_id     name region  sale_id  amount\n",
            "0            1    Alice  North      101     150\n",
            "1            1    Alice  North      103     100\n",
            "2            2      Bob  South      102     200\n",
            "3            2      Bob  South      106     250\n",
            "4            3  Charlie   East      104     300 \n",
            "\n",
            "Overall Sales Statistics:\n",
            "sum      1170.000000\n",
            "mean      167.142857\n",
            "max       300.000000\n",
            "min        50.000000\n",
            "count       7.000000\n",
            "Name: amount, dtype: float64 \n",
            "\n",
            "Total Sales per Customer:\n",
            "      name  amount\n",
            "0    Alice     250\n",
            "1      Bob     450\n",
            "2  Charlie     300\n",
            "3    David      50\n",
            "4      Eve     120 \n",
            "\n",
            "Sales Statistics by Region:\n",
            "  region  sum        mean  count\n",
            "0   East  300  300.000000      1\n",
            "1  North  370  123.333333      3\n",
            "2  South  450  225.000000      2\n",
            "3   West   50   50.000000      1 \n",
            "\n",
            "The best performing region is: South\n"
          ]
        }
      ],
      "source": [
        "import pandas as pd\n",
        "\n",
        "customers = pd.read_csv(\"customers.csv\")\n",
        "sales = pd.read_csv(\"sales.csv\")\n",
        "\n",
        "print(\"Customers Dataset:\")\n",
        "print(customers.head(), \"\\n\")\n",
        "\n",
        "print(\"Sales Dataset:\")\n",
        "print(sales.head(), \"\\n\")\n",
        "\n",
        "inner_merge = pd.merge(customers, sales, on=\"customer_id\", how=\"inner\")\n",
        "left_merge = pd.merge(customers, sales, on=\"customer_id\", how=\"left\")\n",
        "\n",
        "print(\"Inner Join Result:\")\n",
        "print(inner_merge.head(), \"\\n\")\n",
        "\n",
        "print(\"Left Join Result:\")\n",
        "print(left_merge.head(), \"\\n\")\n",
        "\n",
        "print(\"Overall Sales Statistics:\")\n",
        "print(inner_merge[\"amount\"].agg([\"sum\", \"mean\", \"max\", \"min\", \"count\"]), \"\\n\")\n",
        "\n",
        "sales_per_customer = inner_merge.groupby(\"name\")[\"amount\"].sum().reset_index()\n",
        "print(\"Total Sales per Customer:\")\n",
        "print(sales_per_customer, \"\\n\")\n",
        "\n",
        "region_stats = inner_merge.groupby(\"region\")[\"amount\"].agg([\"sum\", \"mean\", \"count\"]).reset_index()\n",
        "print(\"Sales Statistics by Region:\")\n",
        "print(region_stats, \"\\n\")\n",
        "\n",
        "best_region = region_stats.loc[region_stats[\"sum\"].idxmax(), \"region\"]\n",
        "print(f\"The best performing region is: {best_region}\")"
      ]
    }
  ]
}