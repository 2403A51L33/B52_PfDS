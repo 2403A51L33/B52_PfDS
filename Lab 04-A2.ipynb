{
  "nbformat": 4,
  "nbformat_minor": 0,
  "metadata": {
    "colab": {
      "provenance": [],
      "authorship_tag": "ABX9TyOZKCHHyMvscuIzIJYwZUHI",
      "include_colab_link": true
    },
    "kernelspec": {
      "name": "python3",
      "display_name": "Python 3"
    },
    "language_info": {
      "name": "python"
    }
  },
  "cells": [
    {
      "cell_type": "markdown",
      "metadata": {
        "id": "view-in-github",
        "colab_type": "text"
      },
      "source": [
        "<a href=\"https://colab.research.google.com/github/2403A51L33/B52_PfDS/blob/main/Lab%2004-A2.ipynb\" target=\"_parent\"><img src=\"https://colab.research.google.com/assets/colab-badge.svg\" alt=\"Open In Colab\"/></a>"
      ]
    },
    {
      "cell_type": "code",
      "execution_count": 8,
      "metadata": {
        "colab": {
          "base_uri": "https://localhost:8080/"
        },
        "id": "VCDZ8QhDozUr",
        "outputId": "6e25d2bd-c586-44b1-8546-9bcffc23ca56"
      },
      "outputs": [
        {
          "output_type": "stream",
          "name": "stdout",
          "text": [
            "Sample patients.csv file created.\n",
            "\n",
            "Original Data:\n",
            "   Patient_ID   Name   Age  Gender Diagnosis Admission_Date\n",
            "0         101  Alice  65.0  Female  Diabetes     2025-08-01\n",
            "1         102    Bob   NaN    Male       Flu     2025-08-03\n",
            "2         103  Cathy  72.0  Female  Diabetes     2025-08-05\n",
            "3         104  David  40.0    Male    Asthma     2025-08-07\n",
            "4         105    Eva   NaN  Female  Diabetes     2025-08-09\n",
            "\n",
            "Data After Filling Missing Ages (with median):\n",
            "   Patient_ID   Name   Age  Gender Diagnosis Admission_Date\n",
            "0         101  Alice  65.0  Female  Diabetes     2025-08-01\n",
            "1         102    Bob  65.0    Male       Flu     2025-08-03\n",
            "2         103  Cathy  72.0  Female  Diabetes     2025-08-05\n",
            "3         104  David  40.0    Male    Asthma     2025-08-07\n",
            "4         105    Eva  65.0  Female  Diabetes     2025-08-09\n",
            "\n",
            "Elderly Female Patients with Diabetes:\n",
            "   Patient_ID   Name   Age  Gender Diagnosis Admission_Date\n",
            "0         101  Alice  65.0  Female  Diabetes     2025-08-01\n",
            "2         103  Cathy  72.0  Female  Diabetes     2025-08-05\n",
            "4         105    Eva  65.0  Female  Diabetes     2025-08-09\n"
          ]
        }
      ],
      "source": [
        "import pandas as pd\n",
        "\n",
        "data = {\n",
        "    \"Patient_ID\": [101, 102, 103, 104, 105],\n",
        "    \"Name\": [\"Alice\", \"Bob\", \"Cathy\", \"David\", \"Eva\"],\n",
        "    \"Age\": [65, None, 72, 40, None],\n",
        "    \"Gender\": [\"Female\", \"Male\", \"Female\", \"Male\", \"Female\"],\n",
        "    \"Diagnosis\": [\"Diabetes\", \"Flu\", \"Diabetes\", \"Asthma\", \"Diabetes\"],\n",
        "    \"Admission_Date\": [\"2025-08-01\", \"2025-08-03\", \"2025-08-05\", \"2025-08-07\", \"2025-08-09\"]\n",
        "}\n",
        "\n",
        "df_sample = pd.DataFrame(data)\n",
        "df_sample.to_csv(\"patients.csv\", index=False)\n",
        "print(\"Sample patients.csv file created.\\n\")\n",
        "\n",
        "df = pd.read_csv(\"patients.csv\")\n",
        "print(\"Original Data:\")\n",
        "print(df)\n",
        "\n",
        "df[\"Age\"] = df[\"Age\"].fillna(df[\"Age\"].median())\n",
        "print(\"\\nData After Filling Missing Ages (with median):\")\n",
        "print(df)\n",
        "\n",
        "elderly_female_diabetes = df[\n",
        "    (df[\"Gender\"].str.lower() == \"female\") &\n",
        "    (df[\"Age\"] > 50) &\n",
        "    (df[\"Diagnosis\"].str.lower() == \"diabetes\")\n",
        "]\n",
        "\n",
        "print(\"\\nElderly Female Patients with Diabetes:\")\n",
        "print(elderly_female_diabetes)"
      ]
    }
  ]
}