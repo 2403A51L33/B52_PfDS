{
  "nbformat": 4,
  "nbformat_minor": 0,
  "metadata": {
    "colab": {
      "provenance": [],
      "authorship_tag": "ABX9TyOqAxVtllUsjRDWaaBWQDVi",
      "include_colab_link": true
    },
    "kernelspec": {
      "name": "python3",
      "display_name": "Python 3"
    },
    "language_info": {
      "name": "python"
    }
  },
  "cells": [
    {
      "cell_type": "markdown",
      "metadata": {
        "id": "view-in-github",
        "colab_type": "text"
      },
      "source": [
        "<a href=\"https://colab.research.google.com/github/2403A51L33/B52_PfDS/blob/main/A5-(1).ipynb\" target=\"_parent\"><img src=\"https://colab.research.google.com/assets/colab-badge.svg\" alt=\"Open In Colab\"/></a>"
      ]
    },
    {
      "cell_type": "code",
      "execution_count": 1,
      "metadata": {
        "colab": {
          "base_uri": "https://localhost:8080/"
        },
        "id": "XalDveCLc_gT",
        "outputId": "b0aa09c3-4a2b-40d2-b155-ff4699317d5b"
      },
      "outputs": [
        {
          "output_type": "stream",
          "name": "stdout",
          "text": [
            "Students Dataset:\n",
            "   student_id   name class\n",
            "0           1  Puppy     A\n",
            "1           2   Hari     B\n",
            "2           3  Vyshu     A\n",
            "3           4    Tpr     B\n",
            "4           5   Mani     A \n",
            "\n",
            "Scores Dataset:\n",
            "   student_id  math  science\n",
            "0           1    85       88\n",
            "1           2    90       84\n",
            "2           3    78       89\n",
            "3           5    92       95\n",
            "4           6    88       76 \n",
            "\n",
            "Inner Join Result:\n",
            "   student_id   name class  math  science\n",
            "0           1  Puppy     A    85       88\n",
            "1           2   Hari     B    90       84\n",
            "2           3  Vyshu     A    78       89\n",
            "3           5   Mani     A    92       95 \n",
            "\n",
            "Left Join Result:\n",
            "   student_id   name class  math  science\n",
            "0           1  Puppy     A  85.0     88.0\n",
            "1           2   Hari     B  90.0     84.0\n",
            "2           3  Vyshu     A  78.0     89.0\n",
            "3           4    Tpr     B   NaN      NaN\n",
            "4           5   Mani     A  92.0     95.0 \n",
            "\n",
            "Right Join Result:\n",
            "   student_id   name class  math  science\n",
            "0           1  Puppy     A    85       88\n",
            "1           2   Hari     B    90       84\n",
            "2           3  Vyshu     A    78       89\n",
            "3           5   Mani     A    92       95\n",
            "4           6    NaN   NaN    88       76 \n",
            "\n",
            "Aggregate Statistics (Overall):\n",
            "        math  science\n",
            "mean   86.25     89.0\n",
            "max    92.00     95.0\n",
            "min    78.00     84.0\n",
            "count   4.00      4.0 \n",
            "\n",
            "Group-wise Mean Scores (by Class):\n",
            "       math    science\n",
            "class                 \n",
            "A      85.0  90.666667\n",
            "B      90.0  84.000000\n"
          ]
        }
      ],
      "source": [
        "import pandas as pd\n",
        "students = pd.DataFrame({\n",
        "    \"student_id\": [1, 2, 3, 4, 5],\n",
        "    \"name\": [\"Puppy\", \"Hari\", \"Vyshu\", \"Tpr\", \"Mani\"],\n",
        "    \"class\": [\"A\", \"B\", \"A\", \"B\", \"A\"]\n",
        "})\n",
        "scores = pd.DataFrame({\n",
        "    \"student_id\": [1, 2, 3, 5, 6],\n",
        "    \"math\": [85, 90, 78, 92, 88],\n",
        "    \"science\": [88, 84, 89, 95, 76]\n",
        "})\n",
        "print(\"Students Dataset:\")\n",
        "print(students, \"\\n\")\n",
        "\n",
        "print(\"Scores Dataset:\")\n",
        "print(scores, \"\\n\")\n",
        "inner_merge = pd.merge(students, scores, on=\"student_id\", how=\"inner\")\n",
        "left_merge = pd.merge(students, scores, on=\"student_id\", how=\"left\")\n",
        "right_merge = pd.merge(students, scores, on=\"student_id\", how=\"right\")\n",
        "print(\"Inner Join Result:\")\n",
        "print(inner_merge, \"\\n\")\n",
        "print(\"Left Join Result:\")\n",
        "print(left_merge, \"\\n\")\n",
        "print(\"Right Join Result:\")\n",
        "print(right_merge, \"\\n\")\n",
        "print(\"Aggregate Statistics (Overall):\")\n",
        "print(inner_merge[[\"math\", \"science\"]].agg([\"mean\", \"max\", \"min\", \"count\"]), \"\\n\")\n",
        "group_stats = inner_merge.groupby(\"class\")[[\"math\", \"science\"]].mean()\n",
        "print(\"Group-wise Mean Scores (by Class):\")\n",
        "print(group_stats)\n"
      ]
    }
  ]
}