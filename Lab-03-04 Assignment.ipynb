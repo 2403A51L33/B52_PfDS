{
  "nbformat": 4,
  "nbformat_minor": 0,
  "metadata": {
    "colab": {
      "provenance": [],
      "authorship_tag": "ABX9TyP5mzde/jwVhBYLJdXcUSjr",
      "include_colab_link": true
    },
    "kernelspec": {
      "name": "python3",
      "display_name": "Python 3"
    },
    "language_info": {
      "name": "python"
    }
  },
  "cells": [
    {
      "cell_type": "markdown",
      "metadata": {
        "id": "view-in-github",
        "colab_type": "text"
      },
      "source": [
        "<a href=\"https://colab.research.google.com/github/2403A51L33/B52_PfDS/blob/main/Lab-03-04%20Assignment.ipynb\" target=\"_parent\"><img src=\"https://colab.research.google.com/assets/colab-badge.svg\" alt=\"Open In Colab\"/></a>"
      ]
    },
    {
      "cell_type": "code",
      "source": [
        "import numpy as np\n",
        "import matplotlib.pyplot as plt\n",
        "img = np.random.randint(0, 256, (3,3,3), dtype=np.uint8)\n",
        "print(\"Original Image Matrix:\\n\", img)\n",
        "red   = img[:,:,0]\n",
        "green = img[:,:,1]\n",
        "blue  = img[:,:,2]\n",
        "print(\"\\nRed Channel:\\n\", red)\n",
        "print(\"\\nGreen Channel:\\n\", green)\n",
        "print(\"\\nBlue Channel:\\n\", blue)\n",
        "print(\"\\nAverage Red:\", red.mean())\n",
        "print(\"Average Green:\", green.mean())\n",
        "print(\"Average Blue:\", blue.mean())\n",
        "bright = np.clip(img + 50, 0, 255)\n",
        "print(\"\\nBrightened Image Matrix:\\n\", bright)\n",
        "plt.figure(figsize=(8,4))\n",
        "plt.subplot(2,3,1); plt.imshow(img); plt.title(\"Original\"); plt.axis(\"off\")\n",
        "plt.subplot(2,3,2); plt.imshow(red, cmap='Reds'); plt.title(\"Red\"); plt.axis(\"off\")\n",
        "plt.subplot(2,3,3); plt.imshow(green, cmap='Greens'); plt.title(\"Green\"); plt.axis(\"off\")\n",
        "plt.subplot(2,3,4); plt.imshow(blue, cmap='Blues'); plt.title(\"Blue\"); plt.axis(\"off\")\n",
        "plt.subplot(2,3,5); plt.imshow(bright); plt.title(\"Brightened\"); plt.axis(\"off\")\n",
        "plt.tight_layout()\n",
        "plt.show()"
      ],
      "metadata": {
        "colab": {
          "base_uri": "https://localhost:8080/",
          "height": 1000
        },
        "id": "p-zvr2CIe82F",
        "outputId": "cd45e324-b2da-4b41-cad5-b8d4f4d03adf"
      },
      "execution_count": 1,
      "outputs": [
        {
          "output_type": "stream",
          "name": "stdout",
          "text": [
            "Original Image Matrix:\n",
            " [[[ 65 199  58]\n",
            "  [213 164   1]\n",
            "  [132   3 250]]\n",
            "\n",
            " [[ 14 156   7]\n",
            "  [ 77 134  51]\n",
            "  [ 68 139 132]]\n",
            "\n",
            " [[227  54  92]\n",
            "  [ 47 172  79]\n",
            "  [141 141  23]]]\n",
            "\n",
            "Red Channel:\n",
            " [[ 65 213 132]\n",
            " [ 14  77  68]\n",
            " [227  47 141]]\n",
            "\n",
            "Green Channel:\n",
            " [[199 164   3]\n",
            " [156 134 139]\n",
            " [ 54 172 141]]\n",
            "\n",
            "Blue Channel:\n",
            " [[ 58   1 250]\n",
            " [  7  51 132]\n",
            " [ 92  79  23]]\n",
            "\n",
            "Average Red: 109.33333333333333\n",
            "Average Green: 129.11111111111111\n",
            "Average Blue: 77.0\n",
            "\n",
            "Brightened Image Matrix:\n",
            " [[[115 249 108]\n",
            "  [  7 214  51]\n",
            "  [182  53  44]]\n",
            "\n",
            " [[ 64 206  57]\n",
            "  [127 184 101]\n",
            "  [118 189 182]]\n",
            "\n",
            " [[ 21 104 142]\n",
            "  [ 97 222 129]\n",
            "  [191 191  73]]]\n"
          ]
        },
        {
          "output_type": "display_data",
          "data": {
            "text/plain": [
              "<Figure size 800x400 with 5 Axes>"
            ],
            "image/png": "[encoded data removed]"
          },
          "metadata": {}
        }
      ]
    }
  ]
}