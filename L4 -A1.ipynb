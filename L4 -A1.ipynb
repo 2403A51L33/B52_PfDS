{
  "nbformat": 4,
  "nbformat_minor": 0,
  "metadata": {
    "colab": {
      "provenance": [],
      "authorship_tag": "ABX9TyNZXGo0qozAqL91JwAKc6/k",
      "include_colab_link": true
    },
    "kernelspec": {
      "name": "python3",
      "display_name": "Python 3"
    },
    "language_info": {
      "name": "python"
    }
  },
  "cells": [
    {
      "cell_type": "markdown",
      "metadata": {
        "id": "view-in-github",
        "colab_type": "text"
      },
      "source": [
        "<a href=\"https://colab.research.google.com/github/2403A51L33/B52_PfDS/blob/main/L4%20-A1.ipynb\" target=\"_parent\"><img src=\"https://colab.research.google.com/assets/colab-badge.svg\" alt=\"Open In Colab\"/></a>"
      ]
    },
    {
      "cell_type": "code",
      "execution_count": null,
      "metadata": {
        "colab": {
          "base_uri": "https://localhost:8080/"
        },
        "id": "BgvircRzz8r2",
        "outputId": "476b834b-5bd7-4bce-ad24-80419da741f9"
      },
      "outputs": [
        {
          "output_type": "stream",
          "name": "stdout",
          "text": [
            "Original Data:\n",
            "      id      Name  Gender  Age Section  Science  English  History  Maths\n",
            "0      1   Bronnie  Female   13       C       21       81       62     49\n",
            "1      2    Lemmie    Male   15       B       29       41       17     40\n",
            "2      3     Danya  Female   14       C       12       87       16     96\n",
            "3      4     Denna  Female   14       B       15       53       82     33\n",
            "4      5   Jocelin    Male   14       A       43        6        3     21\n",
            "..   ...       ...     ...  ...     ...      ...      ...      ...    ...\n",
            "245  246    Nickie    Male   13       C       28       15       25     10\n",
            "246  247       Rog  Female   13       B        1        4       68     65\n",
            "247  248      Kaia    Male   15       B       93       48       82     44\n",
            "248  249      Anni  Female   14       B       35       73       66     59\n",
            "249  250  Fernande    Male   15       B       50        8       80     78\n",
            "\n",
            "[250 rows x 9 columns]\n",
            "\n",
            "Data after filling missing marks with column averages:\n",
            "      id      Name  Gender  Age Section  Science  English  History  Maths\n",
            "0      1   Bronnie  Female   13       C       21       81       62     49\n",
            "1      2    Lemmie    Male   15       B       29       41       17     40\n",
            "2      3     Danya  Female   14       C       12       87       16     96\n",
            "3      4     Denna  Female   14       B       15       53       82     33\n",
            "4      5   Jocelin    Male   14       A       43        6        3     21\n",
            "..   ...       ...     ...  ...     ...      ...      ...      ...    ...\n",
            "245  246    Nickie    Male   13       C       28       15       25     10\n",
            "246  247       Rog  Female   13       B        1        4       68     65\n",
            "247  248      Kaia    Male   15       B       93       48       82     44\n",
            "248  249      Anni  Female   14       B       35       73       66     59\n",
            "249  250  Fernande    Male   15       B       50        8       80     78\n",
            "\n",
            "[250 rows x 9 columns]\n",
            "\n",
            "High Achievers (scored > 75 in all subjects):\n",
            "      id      Name  Gender  Age Section  Science  English  History  Maths\n",
            "10    11      Dunn    Male   15       C      100       93       87     81\n",
            "68    69       Nil  Female   15       A       84       97       70     96\n",
            "91    92     Daffi  Female   15       A       79       82       99     81\n",
            "120  121  Patrizia    Male   13       A       79       88       96     93\n",
            "180  181   Davidde    Male   13       C       98      100       23     84\n"
          ]
        }
      ],
      "source": [
        "import pandas as pd\n",
        "\n",
        "df = pd.read_csv(\"student data.zip\")\n",
        "\n",
        "print(\"Original Data:\")\n",
        "print(df)\n",
        "\n",
        "df_filled = df.fillna(df.mean(numeric_only=True))\n",
        "\n",
        "print(\"\\nData after filling missing marks with column averages:\")\n",
        "print(df_filled)\n",
        "\n",
        "high_achievers = df_filled[(df_filled[\"Maths\"] > 75) &\n",
        "                           (df_filled[\"Science\"] > 75) &\n",
        "                           (df_filled[\"English\"] > 75)]\n",
        "\n",
        "print(\"\\nHigh Achievers (scored > 75 in all subjects):\")\n",
        "print(high_achievers)"
      ]
    }
  ]
}