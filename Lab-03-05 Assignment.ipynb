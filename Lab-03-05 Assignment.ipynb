{
  "nbformat": 4,
  "nbformat_minor": 0,
  "metadata": {
    "colab": {
      "provenance": [],
      "authorship_tag": "ABX9TyMI8E3hUD09/3LvT4c3bhrV",
      "include_colab_link": true
    },
    "kernelspec": {
      "name": "python3",
      "display_name": "Python 3"
    },
    "language_info": {
      "name": "python"
    }
  },
  "cells": [
    {
      "cell_type": "markdown",
      "metadata": {
        "id": "view-in-github",
        "colab_type": "text"
      },
      "source": [
        "<a href=\"https://colab.research.google.com/github/2403A51L33/B52_PfDS/blob/main/Lab-03-05%20Assignment.ipynb\" target=\"_parent\"><img src=\"https://colab.research.google.com/assets/colab-badge.svg\" alt=\"Open In Colab\"/></a>"
      ]
    },
    {
      "cell_type": "code",
      "source": [
        "import numpy as np\n",
        "A = np.array([[1,2,3],\n",
        "              [4,5,6]])\n",
        "print(\"2D Array A:\\n\", A)\n",
        "print(\"Shape of A:\", A.shape)\n",
        "b = np.array([10,20,30])\n",
        "print(\"\\n1D Array b:\\n\", b)\n",
        "print(\"Shape of b:\", b.shape)\n",
        "C = A + b\n",
        "print(\"\\nA + b:\\n\", C)\n",
        "print(\"Shape of result:\", C.shape)\n",
        "D = np.ones((2,3,4))\n",
        "print(\"\\n3D Array D shape:\", D.shape)\n",
        "E = D + 5\n",
        "print(\"D + 5 shape:\", E.shape)\n",
        "f = np.array([1,2,3])\n",
        "print(\"\\nArray f:\\n\", f)\n",
        "print(\"Shape of f:\", f.shape)\n",
        "f_new = f.reshape(1,3,1)\n",
        "print(\"Reshaped f_new shape:\", f_new.shape)\n",
        "G = D + f_new\n",
        "print(\"D + f_new shape:\", G.shape)\n",
        "try:\n",
        "    X = np.ones((2,3))\n",
        "    Y = np.ones((4,))\n",
        "    Z = X + Y\n",
        "except ValueError as e:\n",
        "    print(\"\\nInvalid Broadcasting Error:\", e)"
      ],
      "metadata": {
        "colab": {
          "base_uri": "https://localhost:8080/"
        },
        "id": "AKPHve1Uggfr",
        "outputId": "f57b5b05-b947-484f-fb5c-e13250ccdf20"
      },
      "execution_count": null,
      "outputs": [
        {
          "output_type": "stream",
          "name": "stdout",
          "text": [
            "2D Array A:\n",
            " [[1 2 3]\n",
            " [4 5 6]]\n",
            "Shape of A: (2, 3)\n",
            "\n",
            "1D Array b:\n",
            " [10 20 30]\n",
            "Shape of b: (3,)\n",
            "\n",
            "A + b:\n",
            " [[11 22 33]\n",
            " [14 25 36]]\n",
            "Shape of result: (2, 3)\n",
            "\n",
            "3D Array D shape: (2, 3, 4)\n",
            "D + 5 shape: (2, 3, 4)\n",
            "\n",
            "Array f:\n",
            " [1 2 3]\n",
            "Shape of f: (3,)\n",
            "Reshaped f_new shape: (1, 3, 1)\n",
            "D + f_new shape: (2, 3, 4)\n",
            "\n",
            "Invalid Broadcasting Error: operands could not be broadcast together with shapes (2,3) (4,) \n"
          ]
        }
      ]
    }
  ]
}