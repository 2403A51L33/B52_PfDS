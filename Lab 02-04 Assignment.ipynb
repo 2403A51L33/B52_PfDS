{
  "nbformat": 4,
  "nbformat_minor": 0,
  "metadata": {
    "colab": {
      "provenance": [],
      "authorship_tag": "ABX9TyMAVkwH/eGJbiInrn3e2vhR",
      "include_colab_link": true
    },
    "kernelspec": {
      "name": "python3",
      "display_name": "Python 3"
    },
    "language_info": {
      "name": "python"
    }
  },
  "cells": [
    {
      "cell_type": "markdown",
      "metadata": {
        "id": "view-in-github",
        "colab_type": "text"
      },
      "source": [
        "<a href=\"https://colab.research.google.com/github/2403A51L33/B52_PfDS/blob/main/Lab%2002-04%20Assignment.ipynb\" target=\"_parent\"><img src=\"https://colab.research.google.com/assets/colab-badge.svg\" alt=\"Open In Colab\"/></a>"
      ]
    },
    {
      "cell_type": "code",
      "execution_count": null,
      "metadata": {
        "colab": {
          "base_uri": "https://localhost:8080/"
        },
        "id": "1_aIgKgwbkD3",
        "outputId": "d41a349c-bd95-40ac-e5e4-dbcc9bf72e00"
      },
      "outputs": [
        {
          "output_type": "stream",
          "name": "stdout",
          "text": [
            "   OrderID Product  Quantity  Price  TotalSale  Discount\n",
            "0        1  Laptop         2    600       1200     120.0\n",
            "1        2   Phone         5    200       1000      50.0\n",
            "2        3  Tablet         3    300        900      45.0\n",
            "3        4  Laptop         1    700        700      35.0\n",
            "\n",
            "High Sales:\n",
            "    OrderID Product  Quantity  Price  TotalSale\n",
            "0        1  Laptop         2    600       1200\n",
            "\n",
            "Most Sold:\n",
            " Product\n",
            "Laptop    3\n",
            "Phone     5\n",
            "Tablet    3\n",
            "Name: Quantity, dtype: int64\n"
          ]
        }
      ],
      "source": [
        "import pandas as pd\n",
        "data = {\n",
        "    \"OrderID\": [1, 2, 3, 4],\n",
        "    \"Product\": [\"Laptop\", \"Phone\", \"Tablet\", \"Laptop\"],\n",
        "    \"Quantity\": [2, 5, 3, 1],\n",
        "    \"Price\": [600, 200, 300, 700]\n",
        "}\n",
        "df = pd.DataFrame(data)\n",
        "df[\"TotalSale\"] = df[\"Quantity\"] * df[\"Price\"]\n",
        "high_sales = df[df[\"TotalSale\"] > 1000]\n",
        "most_sold = df.groupby(\"Product\")[\"Quantity\"].sum()\n",
        "df[\"Discount\"] = df[\"TotalSale\"].apply(lambda x: x*0.1 if x > 1000 else x*0.05)\n",
        "df.to_excel(\"sales_summary.xlsx\", index=False)\n",
        "print(df)\n",
        "print(\"\\nHigh Sales:\\n\", high_sales)\n",
        "print(\"\\nMost Sold:\\n\", most_sold)\n"
      ]
    }
  ]
}